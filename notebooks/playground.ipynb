{
 "metadata": {
  "language_info": {
   "codemirror_mode": {
    "name": "ipython",
    "version": 3
   },
   "file_extension": ".py",
   "mimetype": "text/x-python",
   "name": "python",
   "nbconvert_exporter": "python",
   "pygments_lexer": "ipython3",
   "version": "3.6.10"
  },
  "orig_nbformat": 2,
  "kernelspec": {
   "name": "python3610jvsc74a57bd0355bc9fe57abde4f560705aa816f2ac0d46e7ba26d67692c76bab5462702e522",
   "display_name": "Python 3.6.10 64-bit ('okkular': conda)"
  },
  "metadata": {
   "interpreter": {
    "hash": "355bc9fe57abde4f560705aa816f2ac0d46e7ba26d67692c76bab5462702e522"
   }
  }
 },
 "nbformat": 4,
 "nbformat_minor": 2,
 "cells": [
  {
   "source": [
    "# Photomosaic Playground\n",
    "\n",
    "The aim of this notebook is to experiment with different images, do color analysis and it will not be very properly structured (although I'll try my best to add comments wherever I can...)"
   ],
   "cell_type": "markdown",
   "metadata": {}
  },
  {
   "cell_type": "code",
   "execution_count": 127,
   "metadata": {},
   "outputs": [
    {
     "output_type": "stream",
     "name": "stdout",
     "text": [
      "The autoreload extension is already loaded. To reload it, use:\n  %reload_ext autoreload\n"
     ]
    }
   ],
   "source": [
    "# Import all the necessary libraries and user-defined functions for the task\n",
    "%load_ext autoreload\n",
    "%autoreload 2\n",
    "\n",
    "import os\n",
    "import PIL.Image\n",
    "import numpy as np\n",
    "\n",
    "import sys\n",
    "sys.path.append(\"../scripts\")\n",
    "from exif_orientation_fix import *\n",
    "from center_crop import *\n",
    "\n",
    "import matplotlib.pyplot as plt\n",
    "import seaborn as sns\n",
    "%matplotlib inline\n",
    "\n",
    "import warnings\n",
    "warnings.filterwarnings(\"ignore\")"
   ]
  },
  {
   "cell_type": "code",
   "execution_count": 88,
   "metadata": {},
   "outputs": [],
   "source": [
    "# Define the paths to where your photos are and the source image (one whose mosaic you're interested in making)\n",
    "photos_path = \"../../Photomosaic_Data/Photos/\"\n",
    "source_image_path = \"../../Photomosaic_Data/src.jpg\"\n",
    "all_photos = [os.path.join(photos_path, x) for x in os.listdir(photos_path)]\n",
    "\n",
    "# Define the width to which each photo would be resized\n",
    "h = 256\n",
    "IMSIZE = 250"
   ]
  },
  {
   "cell_type": "code",
   "execution_count": 89,
   "metadata": {},
   "outputs": [],
   "source": [
    "# Fix the orientation of all the photos using piexif\n",
    "for photo in all_photos:\n",
    "    rotate_jpeg(photo)"
   ]
  },
  {
   "cell_type": "code",
   "execution_count": 120,
   "metadata": {},
   "outputs": [],
   "source": [
    "def preprocess_image(image_path, IMSIZE = 250, w = 256):\n",
    "    # Open the image\n",
    "    i = PIL.Image.open(image_path)\n",
    "\n",
    "    # Resize the image by taking aspect ratio into account\n",
    "    # Keep the width as 256 and calculate height as per the AR\n",
    "    W, H = i.size\n",
    "    h = int(H * w / W)\n",
    "    new_image = i.resize((w, h))\n",
    "\n",
    "    # Center crop the image to have 250 x 250 standard image size\n",
    "    center_cropped_image = center_crop(new_image, IMSIZE, IMSIZE)\n",
    "\n",
    "    return center_cropped_image"
   ]
  },
  {
   "cell_type": "code",
   "execution_count": 122,
   "metadata": {},
   "outputs": [],
   "source": [
    "# Create a folder to save all the width based cropped images\n",
    "if not os.path.exists(\"../../Photomosaic_Data/Width_based_crop\"):\n",
    "    os.mkdir(\"../../Photomosaic_Data/Width_based_crop\")\n",
    "\n",
    "# Use our preprocess function above to first resize based on width and then\n",
    "# Center crop to 250 x 250 pixels...\n",
    "for idx, photo in enumerate(all_photos):\n",
    "    img = preprocess_image(photo)\n",
    "    ext = photo.split(\".\")[-1]\n",
    "    img.save(f\"../../Photomosaic_Data/Width_based_crop/{idx}.{ext}\")"
   ]
  },
  {
   "cell_type": "code",
   "execution_count": 123,
   "metadata": {},
   "outputs": [],
   "source": [
    "# preprocess_image(\"../../Photomosaic_Data/src.jpg\", IMSIZE = 2000, w = 2000)"
   ]
  },
  {
   "cell_type": "code",
   "execution_count": 124,
   "metadata": {},
   "outputs": [],
   "source": [
    "# Analyse the RGB components of our Image\n",
    "\n",
    "i = PIL.Image.open(all_photos[0])"
   ]
  },
  {
   "cell_type": "code",
   "execution_count": 133,
   "metadata": {},
   "outputs": [],
   "source": [
    "R = np.array(i)[:, : , 0]\n",
    "G = np.array(i)[:, : , 1]\n",
    "B = np.array(i)[:, : , 2]"
   ]
  },
  {
   "cell_type": "code",
   "execution_count": 134,
   "metadata": {},
   "outputs": [
    {
     "output_type": "execute_result",
     "data": {
      "text/plain": [
       "array([[133, 133, 133, ..., 174, 174, 174],\n",
       "       [134, 134, 134, ..., 174, 174, 174],\n",
       "       [137, 137, 137, ..., 174, 174, 174],\n",
       "       ...,\n",
       "       [ 30,  31,  32, ..., 133, 136, 141],\n",
       "       [ 34,  35,  36, ..., 133, 136, 141],\n",
       "       [ 37,  37,  38, ..., 132, 136, 141]], dtype=uint8)"
      ]
     },
     "metadata": {},
     "execution_count": 134
    }
   ],
   "source": [
    "R"
   ]
  },
  {
   "cell_type": "code",
   "execution_count": null,
   "metadata": {},
   "outputs": [],
   "source": []
  },
  {
   "cell_type": "code",
   "execution_count": null,
   "metadata": {},
   "outputs": [],
   "source": []
  }
 ]
}