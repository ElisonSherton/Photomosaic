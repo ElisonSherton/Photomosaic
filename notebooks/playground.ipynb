{
 "metadata": {
  "language_info": {
   "codemirror_mode": {
    "name": "ipython",
    "version": 3
   },
   "file_extension": ".py",
   "mimetype": "text/x-python",
   "name": "python",
   "nbconvert_exporter": "python",
   "pygments_lexer": "ipython3",
   "version": "3.6.10"
  },
  "orig_nbformat": 2,
  "kernelspec": {
   "name": "python3610jvsc74a57bd0355bc9fe57abde4f560705aa816f2ac0d46e7ba26d67692c76bab5462702e522",
   "display_name": "Python 3.6.10 64-bit ('okkular': conda)"
  },
  "metadata": {
   "interpreter": {
    "hash": "355bc9fe57abde4f560705aa816f2ac0d46e7ba26d67692c76bab5462702e522"
   }
  }
 },
 "nbformat": 4,
 "nbformat_minor": 2,
 "cells": [
  {
   "source": [
    "# Photomosaic Preprocessing\n",
    "\n",
    "The aim of this notebook is to experiment with different images, do color analysis and it will not be very properly structured (although I'll try my best to add comments wherever I can...)"
   ],
   "cell_type": "markdown",
   "metadata": {}
  },
  {
   "cell_type": "code",
   "execution_count": 163,
   "metadata": {},
   "outputs": [
    {
     "output_type": "stream",
     "name": "stdout",
     "text": [
      "The autoreload extension is already loaded. To reload it, use:\n  %reload_ext autoreload\n"
     ]
    }
   ],
   "source": [
    "# Import all the necessary libraries and user-defined functions for the task\n",
    "%load_ext autoreload\n",
    "%autoreload 2\n",
    "\n",
    "import os, json\n",
    "import PIL.Image\n",
    "import numpy as np\n",
    "from tqdm.notebook import tqdm\n",
    "\n",
    "import sys\n",
    "sys.path.append(\"../scripts\")\n",
    "from exif_orientation_fix import *\n",
    "from center_crop import *\n",
    "from analyse import *\n",
    "\n",
    "import matplotlib.pyplot as plt\n",
    "import seaborn as sns\n",
    "%matplotlib inline\n",
    "\n",
    "import warnings\n",
    "warnings.filterwarnings(\"ignore\")"
   ]
  },
  {
   "cell_type": "code",
   "execution_count": 164,
   "metadata": {},
   "outputs": [],
   "source": [
    "# Define the paths to where your photos are and the source image (one whose mosaic you're interested in making)\n",
    "photos_path = \"../../Photomosaic_Data/Photos/\"\n",
    "source_image_path = \"../../Photomosaic_Data/src.jpg\"\n",
    "all_photos = [os.path.join(photos_path, x) for x in os.listdir(photos_path)]\n",
    "\n",
    "# Define the width to which each photo would be resized\n",
    "h = 256\n",
    "IMSIZE = 250"
   ]
  },
  {
   "cell_type": "code",
   "execution_count": 165,
   "metadata": {},
   "outputs": [],
   "source": [
    "# Fix the orientation of all the photos using piexif\n",
    "for photo in all_photos:\n",
    "    rotate_jpeg(photo)"
   ]
  },
  {
   "cell_type": "code",
   "execution_count": 166,
   "metadata": {},
   "outputs": [],
   "source": [
    "def preprocess_image(image_path, IMSIZE = 250, w = 256):\n",
    "    # Open the image\n",
    "    i = PIL.Image.open(image_path)\n",
    "\n",
    "    # Resize the image by taking aspect ratio into account\n",
    "    # Keep the width as 256 and calculate height as per the AR\n",
    "    W, H = i.size\n",
    "    h = int(H * w / W)\n",
    "    new_image = i.resize((w, h))\n",
    "\n",
    "    # Center crop the image to have 250 x 250 standard image size\n",
    "    center_cropped_image = center_crop(new_image, IMSIZE, IMSIZE)\n",
    "\n",
    "    return center_cropped_image"
   ]
  },
  {
   "cell_type": "code",
   "execution_count": 167,
   "metadata": {},
   "outputs": [
    {
     "output_type": "display_data",
     "data": {
      "text/plain": "Preprocessing Images...:   0%|          | 0/34 [00:00<?, ?it/s]",
      "application/vnd.jupyter.widget-view+json": {
       "version_major": 2,
       "version_minor": 0,
       "model_id": "5db0aa6f8d9e40509c3744455aaed0b2"
      }
     },
     "metadata": {}
    }
   ],
   "source": [
    "# Create a folder to save all the width resized center cropped images\n",
    "if not os.path.exists(\"../../Photomosaic_Data/Width_based_crop\"):\n",
    "    os.mkdir(\"../../Photomosaic_Data/Width_based_crop\")\n",
    "\n",
    "# Use our preprocess function above to first resize based on width and then\n",
    "# Center crop to 250 x 250 pixels...\n",
    "for photo in tqdm(all_photos, desc = \"Preprocessing Images...\"):\n",
    "    img = preprocess_image(photo)\n",
    "    photo_name = photo.split(\"/\")[-1].split(\".\")[0]\n",
    "    ext = photo.split(\".\")[-1]\n",
    "    img.save(f\"../../Photomosaic_Data/Width_based_crop/{photo_name}.{ext}\")"
   ]
  },
  {
   "cell_type": "code",
   "execution_count": 168,
   "metadata": {},
   "outputs": [
    {
     "output_type": "display_data",
     "data": {
      "text/plain": "Extracting image stats...:   0%|          | 0/34 [00:00<?, ?it/s]",
      "application/vnd.jupyter.widget-view+json": {
       "version_major": 2,
       "version_minor": 0,
       "model_id": "e719483bb45245f7b06ad4eb079ba5b5"
      }
     },
     "metadata": {}
    }
   ],
   "source": [
    "# Make a container to store the photo information\n",
    "photo_stats = {}\n",
    "\n",
    "for photo in tqdm(all_photos, desc = \"Extracting image stats...\"):\n",
    "    # Get the name of photo from photo path\n",
    "    photo_name = photo.split(\"/\")[-1]\n",
    "\n",
    "    # Get the stats for the photo using udf get_image_stats\n",
    "    ph_stats = get_image_stats(photo)\n",
    "\n",
    "    # Save the stats against the name of the photo as our index\n",
    "    photo_stats[photo_name] = ph_stats\n",
    "\n",
    "with open(\"../artefacts/photo_stats.json\", \"w\") as f:\n",
    "    json.dump(photo_stats, f)\n",
    "    f.close()"
   ]
  },
  {
   "cell_type": "code",
   "execution_count": null,
   "metadata": {},
   "outputs": [],
   "source": []
  },
  {
   "cell_type": "code",
   "execution_count": null,
   "metadata": {},
   "outputs": [],
   "source": []
  }
 ]
}