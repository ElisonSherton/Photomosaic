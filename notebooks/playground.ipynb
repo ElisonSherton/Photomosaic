{
 "metadata": {
  "language_info": {
   "codemirror_mode": {
    "name": "ipython",
    "version": 3
   },
   "file_extension": ".py",
   "mimetype": "text/x-python",
   "name": "python",
   "nbconvert_exporter": "python",
   "pygments_lexer": "ipython3",
   "version": "3.6.10"
  },
  "orig_nbformat": 2,
  "kernelspec": {
   "name": "python3610jvsc74a57bd0355bc9fe57abde4f560705aa816f2ac0d46e7ba26d67692c76bab5462702e522",
   "display_name": "Python 3.6.10 64-bit ('okkular': conda)"
  },
  "metadata": {
   "interpreter": {
    "hash": "355bc9fe57abde4f560705aa816f2ac0d46e7ba26d67692c76bab5462702e522"
   }
  }
 },
 "nbformat": 4,
 "nbformat_minor": 2,
 "cells": [
  {
   "source": [
    "# PhotoMosaic Playground\n",
    "\n",
    "The aim of this notebook is to experiment with different images, do color analysis and it will not be very properly structured (although I'll try my best to add comments wherever I can...)"
   ],
   "cell_type": "markdown",
   "metadata": {}
  },
  {
   "cell_type": "code",
   "execution_count": 2,
   "metadata": {},
   "outputs": [],
   "source": [
    "import os\n",
    "import PIL.Image\n",
    "\n",
    "import matplotlib.pyplot as plt\n",
    "import seaborn as sns\n",
    "%matplotlib inline\n",
    "\n",
    "import warnings\n",
    "warnings.filterwarnings(\"ignore\")"
   ]
  },
  {
   "cell_type": "code",
   "execution_count": null,
   "metadata": {},
   "outputs": [],
   "source": []
  },
  {
   "cell_type": "code",
   "execution_count": null,
   "metadata": {},
   "outputs": [],
   "source": []
  }
 ]
}